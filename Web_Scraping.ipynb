{
  "nbformat": 4,
  "nbformat_minor": 0,
  "metadata": {
    "colab": {
      "name": "Web_Scraping.ipynb",
      "version": "0.3.2",
      "provenance": [],
      "collapsed_sections": []
    },
    "kernelspec": {
      "name": "python3",
      "display_name": "Python 3"
    }
  },
  "cells": [
    {
      "cell_type": "code",
      "metadata": {
        "id": "7nzQQPAKmdp5",
        "colab_type": "code",
        "colab": {}
      },
      "source": [
        "import requests\n",
        "import lxml.html\n",
        "import pandas as pd"
      ],
      "execution_count": 0,
      "outputs": []
    },
    {
      "cell_type": "code",
      "metadata": {
        "id": "X-0YiQJXaoU1",
        "colab_type": "code",
        "colab": {}
      },
      "source": [
        "\n",
        "staff_details= pd.DataFrame(columns=[\"Name\",\"Role\",\"Areas\"])\n",
        "areas=tree.xpath('//div[@class=\"text\"]//p[position()=1]')\n",
        "for i in range(len(areas)):\n",
        "  areas=tree.xpath('//div[@class=\"text\"]//p[position()=1]')[i]\n",
        "  div_elem=tree.xpath('//div//h4')[i]\n",
        "  areas=areas.text_content()[6:]\n",
        "  name_role=div_elem.text_content().split(',')\n",
        "  name=name_role[0]\n",
        "  role=','.join(name_role[1:])\n",
        "  role=role.split('\\n')[0]\n",
        "  name.strip()\n",
        "  areas=areas.split('\\n')[0]\n",
        "  staff_details.loc[i]=[name,role,areas]"
      ],
      "execution_count": 0,
      "outputs": []
    },
    {
      "cell_type": "code",
      "metadata": {
        "id": "oh3A91YBmbgO",
        "colab_type": "code",
        "outputId": "59cbf83a-8c21-48ab-bb65-9903cd56219f",
        "colab": {
          "base_uri": "https://localhost:8080/",
          "height": 204
        }
      },
      "source": [
        "staff_details.head()"
      ],
      "execution_count": 0,
      "outputs": [
        {
          "output_type": "execute_result",
          "data": {
            "text/html": [
              "<div>\n",
              "<style scoped>\n",
              "    .dataframe tbody tr th:only-of-type {\n",
              "        vertical-align: middle;\n",
              "    }\n",
              "\n",
              "    .dataframe tbody tr th {\n",
              "        vertical-align: top;\n",
              "    }\n",
              "\n",
              "    .dataframe thead th {\n",
              "        text-align: right;\n",
              "    }\n",
              "</style>\n",
              "<table border=\"1\" class=\"dataframe\">\n",
              "  <thead>\n",
              "    <tr style=\"text-align: right;\">\n",
              "      <th></th>\n",
              "      <th>Name</th>\n",
              "      <th>Role</th>\n",
              "      <th>Areas</th>\n",
              "    </tr>\n",
              "  </thead>\n",
              "  <tbody>\n",
              "    <tr>\n",
              "      <th>0</th>\n",
              "      <td>Yagiz Aksoy</td>\n",
              "      <td>Assistant Professor</td>\n",
              "      <td>Computational photography, computer graphics, ...</td>\n",
              "    </tr>\n",
              "    <tr>\n",
              "      <th>1</th>\n",
              "      <td>Brad Bart</td>\n",
              "      <td>SENIOR LECTURER</td>\n",
              "      <td>Instruction</td>\n",
              "    </tr>\n",
              "    <tr>\n",
              "      <th>2</th>\n",
              "      <td>Angel Chang</td>\n",
              "      <td>Assistant Professor</td>\n",
              "      <td>Natural Language Processing, Artificial Intell...</td>\n",
              "    </tr>\n",
              "    <tr>\n",
              "      <th>3</th>\n",
              "      <td>SHEELAGH CARPENDALE</td>\n",
              "      <td>PROFESSOR</td>\n",
              "      <td>Information Visualization</td>\n",
              "    </tr>\n",
              "    <tr>\n",
              "      <th>4</th>\n",
              "      <td>LEONID CHINDELEVITCH</td>\n",
              "      <td>ASSISTANT PROFESSOR</td>\n",
              "      <td>Computational Biology</td>\n",
              "    </tr>\n",
              "  </tbody>\n",
              "</table>\n",
              "</div>"
            ],
            "text/plain": [
              "                   Name  ...                                              Areas\n",
              "0           Yagiz Aksoy  ...  Computational photography, computer graphics, ...\n",
              "1             Brad Bart  ...                                        Instruction\n",
              "2           Angel Chang  ...  Natural Language Processing, Artificial Intell...\n",
              "3   SHEELAGH CARPENDALE  ...                          Information Visualization\n",
              "4  LEONID CHINDELEVITCH  ...                              Computational Biology\n",
              "\n",
              "[5 rows x 3 columns]"
            ]
          },
          "metadata": {
            "tags": []
          },
          "execution_count": 80
        }
      ]
    },
    {
      "cell_type": "code",
      "metadata": {
        "id": "9HnOXiZlnJs-",
        "colab_type": "code",
        "outputId": "5a8856ab-34ac-4515-be7b-ccb866f7538c",
        "colab": {
          "base_uri": "https://localhost:8080/",
          "height": 34
        }
      },
      "source": [
        "staff_details.shape"
      ],
      "execution_count": 0,
      "outputs": [
        {
          "output_type": "execute_result",
          "data": {
            "text/plain": [
              "(64, 3)"
            ]
          },
          "metadata": {
            "tags": []
          },
          "execution_count": 77
        }
      ]
    }
  ]
}